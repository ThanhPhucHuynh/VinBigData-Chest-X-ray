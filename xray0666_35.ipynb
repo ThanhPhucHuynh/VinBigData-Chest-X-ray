{
  "nbformat": 4,
  "nbformat_minor": 0,
  "metadata": {
    "colab": {
      "name": "xray.ipynb",
      "provenance": [],
      "collapsed_sections": []
    },
    "kernelspec": {
      "name": "python3",
      "display_name": "Python 3"
    },
    "accelerator": "GPU"
  },
  "cells": [
    {
      "cell_type": "code",
      "metadata": {
        "id": "BUk9WDX45r2c"
      },
      "source": [
        "!pip install -q kaggle"
      ],
      "execution_count": null,
      "outputs": []
    },
    {
      "cell_type": "code",
      "metadata": {
        "colab": {
          "resources": {
            "http://localhost:8080/nbextensions/google.colab/files.js": {
              "data": "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",
              "ok": true,
              "headers": [
                [
                  "content-type",
                  "application/javascript"
                ]
              ],
              "status": 200,
              "status_text": ""
            }
          },
          "base_uri": "https://localhost:8080/",
          "height": 89
        },
        "id": "wRfn7yMS54qh",
        "outputId": "8c7062ec-88b7-44c1-d227-d5c4bed14317"
      },
      "source": [
        "from google.colab import files\r\n",
        "files.upload()"
      ],
      "execution_count": null,
      "outputs": [
        {
          "output_type": "display_data",
          "data": {
            "text/html": [
              "\n",
              "     <input type=\"file\" id=\"files-e6a157a9-b72c-4f9d-a715-260898e154f9\" name=\"files[]\" multiple disabled\n",
              "        style=\"border:none\" />\n",
              "     <output id=\"result-e6a157a9-b72c-4f9d-a715-260898e154f9\">\n",
              "      Upload widget is only available when the cell has been executed in the\n",
              "      current browser session. Please rerun this cell to enable.\n",
              "      </output>\n",
              "      <script src=\"/nbextensions/google.colab/files.js\"></script> "
            ],
            "text/plain": [
              "<IPython.core.display.HTML object>"
            ]
          },
          "metadata": {
            "tags": []
          }
        },
        {
          "output_type": "stream",
          "text": [
            "Saving kaggle.json to kaggle.json\n"
          ],
          "name": "stdout"
        },
        {
          "output_type": "execute_result",
          "data": {
            "text/plain": [
              "{'kaggle.json': b'{\"username\":\"thanhphchunh\",\"key\":\"edbf0bff0243b5bc2d23b065d00a020f\"}'}"
            ]
          },
          "metadata": {
            "tags": []
          },
          "execution_count": 2
        }
      ]
    },
    {
      "cell_type": "code",
      "metadata": {
        "id": "zLZeuBmCuv_x"
      },
      "source": [
        ""
      ],
      "execution_count": null,
      "outputs": []
    },
    {
      "cell_type": "code",
      "metadata": {
        "colab": {
          "base_uri": "https://localhost:8080/"
        },
        "id": "Vsxvcpa16QhC",
        "outputId": "5a27598e-1e3d-4664-88e8-e4fda47080fd"
      },
      "source": [
        "!df -h"
      ],
      "execution_count": null,
      "outputs": [
        {
          "output_type": "stream",
          "text": [
            "Filesystem      Size  Used Avail Use% Mounted on\n",
            "overlay          69G   39G   30G  57% /\n",
            "tmpfs            64M     0   64M   0% /dev\n",
            "tmpfs           6.4G     0  6.4G   0% /sys/fs/cgroup\n",
            "shm             5.8G     0  5.8G   0% /dev/shm\n",
            "/dev/sda1        75G   40G   35G  54% /opt/bin\n",
            "tmpfs           6.4G   24K  6.4G   1% /var/colab\n",
            "tmpfs           6.4G     0  6.4G   0% /proc/acpi\n",
            "tmpfs           6.4G     0  6.4G   0% /proc/scsi\n",
            "tmpfs           6.4G     0  6.4G   0% /sys/firmware\n"
          ],
          "name": "stdout"
        }
      ]
    },
    {
      "cell_type": "code",
      "metadata": {
        "id": "Nd-ZF-pv6Wg-"
      },
      "source": [
        "!mkdir '/root/.kaggle'\r\n",
        "!cp kaggle.json '/root/.kaggle'\r\n",
        "!chmod 600 /root/.kaggle/kaggle.json"
      ],
      "execution_count": null,
      "outputs": []
    },
    {
      "cell_type": "code",
      "metadata": {
        "colab": {
          "base_uri": "https://localhost:8080/"
        },
        "id": "nOQjPD8n7UrM",
        "outputId": "e5c076f0-034d-497b-bc3f-8db89a78ea90"
      },
      "source": [
        "!kaggle datasets list"
      ],
      "execution_count": null,
      "outputs": [
        {
          "output_type": "stream",
          "text": [
            "Warning: Looks like you're using an outdated API Version, please consider updating (server 1.5.12 / client 1.5.4)\n",
            "ref                                                         title                                              size  lastUpdated          downloadCount  \n",
            "----------------------------------------------------------  ------------------------------------------------  -----  -------------------  -------------  \n",
            "gpreda/reddit-vaccine-myths                                 Reddit Vaccine Myths                              215KB  2021-03-16 09:19:48            482  \n",
            "dhruvildave/wikibooks-dataset                               Wikibooks Dataset                                   1GB  2021-02-18 10:08:27            448  \n",
            "crowww/a-large-scale-fish-dataset                           A Large Scale Fish Dataset                          3GB  2021-02-17 16:10:44            392  \n",
            "imsparsh/musicnet-dataset                                   MusicNet Dataset                                   22GB  2021-02-18 14:12:19            178  \n",
            "fatiimaezzahra/famous-iconic-women                          Famous Iconic Women                               838MB  2021-02-28 14:56:00            119  \n",
            "nickuzmenkov/nih-chest-xrays-tfrecords                      NIH Chest X-rays TFRecords                         11GB  2021-03-09 04:49:23             81  \n",
            "nickuzmenkov/ranzcr-clip-kfold-tfrecords                    RANZCR CLiP KFold TFRecords                         2GB  2021-02-21 13:29:51             27  \n",
            "mathurinache/the-lj-speech-dataset                          The LJ Speech Dataset                               3GB  2021-02-15 09:19:54             32  \n",
            "imsparsh/accentdb-core-extended                             AccentDB - Core & Extended                          6GB  2021-02-17 14:22:54             18  \n",
            "coloradokb/dandelionimages                                  DandelionImages                                     4GB  2021-02-19 20:03:47             34  \n",
            "stuartjames/lights                                          LightS: Light Specularity Dataset                  18GB  2021-02-18 14:32:26             15  \n",
            "landrykezebou/lvzhdr-tone-mapping-benchmark-dataset-tmonet  LVZ-HDR Tone Mapping Benchmark Dataset (TMO-Net)   24GB  2021-03-01 05:03:40             19  \n",
            "shivamb/netflix-shows                                       Netflix Movies and TV Shows                         1MB  2021-01-18 16:20:26         112681  \n",
            "arashnic/hr-analytics-job-change-of-data-scientists         HR Analytics: Job Change of Data Scientists       295KB  2020-12-07 00:25:10          14182  \n",
            "gpreda/covid-world-vaccination-progress                     COVID-19 World Vaccination Progress               143KB  2021-03-16 09:20:29          29066  \n",
            "michau96/restaurant-business-rankings-2020                  Restaurant Business Rankings 2020                  16KB  2021-01-30 14:20:45           8114  \n",
            "jsphyg/weather-dataset-rattle-package                       Rain in Australia                                   4MB  2020-12-11 10:26:12          38389  \n",
            "datasnaek/youtube-new                                       Trending YouTube Video Statistics                 201MB  2019-06-03 00:56:47         131144  \n",
            "google/tinyquickdraw                                        QuickDraw Sketches                                 11GB  2018-04-18 19:38:04           2905  \n",
            "zynicide/wine-reviews                                       Wine Reviews                                       51MB  2017-11-27 17:08:04         130655  \n"
          ],
          "name": "stdout"
        }
      ]
    },
    {
      "cell_type": "code",
      "metadata": {
        "colab": {
          "base_uri": "https://localhost:8080/",
          "height": 35
        },
        "id": "KHfiBcC27bqR",
        "outputId": "088ab808-bb5b-48b4-c275-afe5b7ceb09f"
      },
      "source": [
        "pwd"
      ],
      "execution_count": null,
      "outputs": [
        {
          "output_type": "execute_result",
          "data": {
            "application/vnd.google.colaboratory.intrinsic+json": {
              "type": "string"
            },
            "text/plain": [
              "'/content'"
            ]
          },
          "metadata": {
            "tags": []
          },
          "execution_count": 6
        }
      ]
    },
    {
      "cell_type": "code",
      "metadata": {
        "id": "zCzRCpfzu2cp"
      },
      "source": [
        "mkdir vinbigdata-xray"
      ],
      "execution_count": null,
      "outputs": []
    },
    {
      "cell_type": "code",
      "metadata": {
        "colab": {
          "base_uri": "https://localhost:8080/"
        },
        "id": "Y6oQacHr7jaV",
        "outputId": "33683f6d-e9ad-424a-d22b-ae959e4c090d"
      },
      "source": [
        "cd /content/vinbigdata-xray"
      ],
      "execution_count": null,
      "outputs": [
        {
          "output_type": "stream",
          "text": [
            "/content/vinbigdata-xray\n"
          ],
          "name": "stdout"
        }
      ]
    },
    {
      "cell_type": "code",
      "metadata": {
        "colab": {
          "base_uri": "https://localhost:8080/"
        },
        "id": "RMVHHb2h7XJ8",
        "outputId": "713e0faa-5961-457e-f7bc-be5049479495"
      },
      "source": [
        "!kaggle datasets download -d awsaf49/vinbigdata-1024-image-dataset"
      ],
      "execution_count": null,
      "outputs": [
        {
          "output_type": "stream",
          "text": [
            "Downloading vinbigdata-1024-image-dataset.zip to /content\n",
            "100% 8.13G/8.14G [03:10<00:00, 34.3MB/s]\n",
            "100% 8.14G/8.14G [03:10<00:00, 45.8MB/s]\n"
          ],
          "name": "stdout"
        }
      ]
    },
    {
      "cell_type": "code",
      "metadata": {
        "colab": {
          "base_uri": "https://localhost:8080/"
        },
        "id": "CCKKsjHOhd-Y",
        "outputId": "c6f5ba34-6ae5-48ac-d623-408e4e9de4ab"
      },
      "source": [
        "from google.colab import drive\n",
        "drive.mount('/content/drive')"
      ],
      "execution_count": null,
      "outputs": [
        {
          "output_type": "stream",
          "text": [
            "Mounted at /content/drive\n"
          ],
          "name": "stdout"
        }
      ]
    },
    {
      "cell_type": "code",
      "metadata": {
        "id": "_nPbvA839MFF"
      },
      "source": [
        "!unzip -q vinbigdata-1024-image-dataset.zip"
      ],
      "execution_count": null,
      "outputs": []
    },
    {
      "cell_type": "code",
      "metadata": {
        "id": "Nwme7IqFbBAe"
      },
      "source": [
        ""
      ],
      "execution_count": null,
      "outputs": []
    },
    {
      "cell_type": "code",
      "metadata": {
        "id": "Ow8_egYzB-2L"
      },
      "source": [
        "labels = [\n",
        "    \"Aortic enlargement\",\n",
        "    \"Atelectasis\",\n",
        "    \"Calcification\",\n",
        "    \"Cardiomegaly\",\n",
        "    \"Consolidation\",\n",
        "    \"ILD\",\n",
        "    \"Infiltration\",\n",
        "    \"Lung Opacity\",\n",
        "    \"Nodule/Mass\",\n",
        "    \"Other lesion\",\n",
        "    \"Pleural effusion\",\n",
        "    \"Pleural thickening\",\n",
        "    \"Pneumothorax\",\n",
        "    \"Pulmonary fibrosis\",\n",
        "    \"No finding\",\n",
        "    \"Finding\"\n",
        "]"
      ],
      "execution_count": null,
      "outputs": []
    },
    {
      "cell_type": "code",
      "metadata": {
        "colab": {
          "base_uri": "https://localhost:8080/",
          "height": 419
        },
        "id": "NzKzrmMcCAoA",
        "outputId": "cba80c1f-696a-4ef9-acbd-84d8c8d96435"
      },
      "source": [
        "import pandas as pd\n",
        "df_train = pd.read_csv('/content/vinbigdata/train.csv')\n",
        "df_train"
      ],
      "execution_count": null,
      "outputs": [
        {
          "output_type": "execute_result",
          "data": {
            "text/html": [
              "<div>\n",
              "<style scoped>\n",
              "    .dataframe tbody tr th:only-of-type {\n",
              "        vertical-align: middle;\n",
              "    }\n",
              "\n",
              "    .dataframe tbody tr th {\n",
              "        vertical-align: top;\n",
              "    }\n",
              "\n",
              "    .dataframe thead th {\n",
              "        text-align: right;\n",
              "    }\n",
              "</style>\n",
              "<table border=\"1\" class=\"dataframe\">\n",
              "  <thead>\n",
              "    <tr style=\"text-align: right;\">\n",
              "      <th></th>\n",
              "      <th>image_id</th>\n",
              "      <th>class_name</th>\n",
              "      <th>class_id</th>\n",
              "      <th>rad_id</th>\n",
              "      <th>x_min</th>\n",
              "      <th>y_min</th>\n",
              "      <th>x_max</th>\n",
              "      <th>y_max</th>\n",
              "      <th>width</th>\n",
              "      <th>height</th>\n",
              "    </tr>\n",
              "  </thead>\n",
              "  <tbody>\n",
              "    <tr>\n",
              "      <th>0</th>\n",
              "      <td>50a418190bc3fb1ef1633bf9678929b3</td>\n",
              "      <td>No finding</td>\n",
              "      <td>14</td>\n",
              "      <td>R11</td>\n",
              "      <td>NaN</td>\n",
              "      <td>NaN</td>\n",
              "      <td>NaN</td>\n",
              "      <td>NaN</td>\n",
              "      <td>2332</td>\n",
              "      <td>2580</td>\n",
              "    </tr>\n",
              "    <tr>\n",
              "      <th>1</th>\n",
              "      <td>21a10246a5ec7af151081d0cd6d65dc9</td>\n",
              "      <td>No finding</td>\n",
              "      <td>14</td>\n",
              "      <td>R7</td>\n",
              "      <td>NaN</td>\n",
              "      <td>NaN</td>\n",
              "      <td>NaN</td>\n",
              "      <td>NaN</td>\n",
              "      <td>2954</td>\n",
              "      <td>3159</td>\n",
              "    </tr>\n",
              "    <tr>\n",
              "      <th>2</th>\n",
              "      <td>9a5094b2563a1ef3ff50dc5c7ff71345</td>\n",
              "      <td>Cardiomegaly</td>\n",
              "      <td>3</td>\n",
              "      <td>R10</td>\n",
              "      <td>691.0</td>\n",
              "      <td>1375.0</td>\n",
              "      <td>1653.0</td>\n",
              "      <td>1831.0</td>\n",
              "      <td>2080</td>\n",
              "      <td>2336</td>\n",
              "    </tr>\n",
              "    <tr>\n",
              "      <th>3</th>\n",
              "      <td>051132a778e61a86eb147c7c6f564dfe</td>\n",
              "      <td>Aortic enlargement</td>\n",
              "      <td>0</td>\n",
              "      <td>R10</td>\n",
              "      <td>1264.0</td>\n",
              "      <td>743.0</td>\n",
              "      <td>1611.0</td>\n",
              "      <td>1019.0</td>\n",
              "      <td>2304</td>\n",
              "      <td>2880</td>\n",
              "    </tr>\n",
              "    <tr>\n",
              "      <th>4</th>\n",
              "      <td>063319de25ce7edb9b1c6b8881290140</td>\n",
              "      <td>No finding</td>\n",
              "      <td>14</td>\n",
              "      <td>R10</td>\n",
              "      <td>NaN</td>\n",
              "      <td>NaN</td>\n",
              "      <td>NaN</td>\n",
              "      <td>NaN</td>\n",
              "      <td>2540</td>\n",
              "      <td>3072</td>\n",
              "    </tr>\n",
              "    <tr>\n",
              "      <th>...</th>\n",
              "      <td>...</td>\n",
              "      <td>...</td>\n",
              "      <td>...</td>\n",
              "      <td>...</td>\n",
              "      <td>...</td>\n",
              "      <td>...</td>\n",
              "      <td>...</td>\n",
              "      <td>...</td>\n",
              "      <td>...</td>\n",
              "      <td>...</td>\n",
              "    </tr>\n",
              "    <tr>\n",
              "      <th>67909</th>\n",
              "      <td>936fd5cff1c058d39817a08f58b72cae</td>\n",
              "      <td>No finding</td>\n",
              "      <td>14</td>\n",
              "      <td>R1</td>\n",
              "      <td>NaN</td>\n",
              "      <td>NaN</td>\n",
              "      <td>NaN</td>\n",
              "      <td>NaN</td>\n",
              "      <td>2444</td>\n",
              "      <td>3200</td>\n",
              "    </tr>\n",
              "    <tr>\n",
              "      <th>67910</th>\n",
              "      <td>ca7e72954550eeb610fe22bf0244b7fa</td>\n",
              "      <td>No finding</td>\n",
              "      <td>14</td>\n",
              "      <td>R1</td>\n",
              "      <td>NaN</td>\n",
              "      <td>NaN</td>\n",
              "      <td>NaN</td>\n",
              "      <td>NaN</td>\n",
              "      <td>1994</td>\n",
              "      <td>2430</td>\n",
              "    </tr>\n",
              "    <tr>\n",
              "      <th>67911</th>\n",
              "      <td>aa17d5312a0fb4a2939436abca7f9579</td>\n",
              "      <td>No finding</td>\n",
              "      <td>14</td>\n",
              "      <td>R8</td>\n",
              "      <td>NaN</td>\n",
              "      <td>NaN</td>\n",
              "      <td>NaN</td>\n",
              "      <td>NaN</td>\n",
              "      <td>2048</td>\n",
              "      <td>2500</td>\n",
              "    </tr>\n",
              "    <tr>\n",
              "      <th>67912</th>\n",
              "      <td>4b56bc6d22b192f075f13231419dfcc8</td>\n",
              "      <td>Cardiomegaly</td>\n",
              "      <td>3</td>\n",
              "      <td>R8</td>\n",
              "      <td>771.0</td>\n",
              "      <td>979.0</td>\n",
              "      <td>1680.0</td>\n",
              "      <td>1311.0</td>\n",
              "      <td>1968</td>\n",
              "      <td>2040</td>\n",
              "    </tr>\n",
              "    <tr>\n",
              "      <th>67913</th>\n",
              "      <td>5e272e3adbdaafb07a7e84a9e62b1a4c</td>\n",
              "      <td>No finding</td>\n",
              "      <td>14</td>\n",
              "      <td>R16</td>\n",
              "      <td>NaN</td>\n",
              "      <td>NaN</td>\n",
              "      <td>NaN</td>\n",
              "      <td>NaN</td>\n",
              "      <td>2048</td>\n",
              "      <td>2500</td>\n",
              "    </tr>\n",
              "  </tbody>\n",
              "</table>\n",
              "<p>67914 rows × 10 columns</p>\n",
              "</div>"
            ],
            "text/plain": [
              "                               image_id          class_name  ...  width height\n",
              "0      50a418190bc3fb1ef1633bf9678929b3          No finding  ...   2332   2580\n",
              "1      21a10246a5ec7af151081d0cd6d65dc9          No finding  ...   2954   3159\n",
              "2      9a5094b2563a1ef3ff50dc5c7ff71345        Cardiomegaly  ...   2080   2336\n",
              "3      051132a778e61a86eb147c7c6f564dfe  Aortic enlargement  ...   2304   2880\n",
              "4      063319de25ce7edb9b1c6b8881290140          No finding  ...   2540   3072\n",
              "...                                 ...                 ...  ...    ...    ...\n",
              "67909  936fd5cff1c058d39817a08f58b72cae          No finding  ...   2444   3200\n",
              "67910  ca7e72954550eeb610fe22bf0244b7fa          No finding  ...   1994   2430\n",
              "67911  aa17d5312a0fb4a2939436abca7f9579          No finding  ...   2048   2500\n",
              "67912  4b56bc6d22b192f075f13231419dfcc8        Cardiomegaly  ...   1968   2040\n",
              "67913  5e272e3adbdaafb07a7e84a9e62b1a4c          No finding  ...   2048   2500\n",
              "\n",
              "[67914 rows x 10 columns]"
            ]
          },
          "metadata": {
            "tags": []
          },
          "execution_count": 12
        }
      ]
    },
    {
      "cell_type": "code",
      "metadata": {
        "id": "lcKCSvS2CFcM"
      },
      "source": [
        "def bb_iou(boxA, boxB):\n",
        "    # determine the (x, y)-coordinates of the intersection rectangle\n",
        "    xA = max(boxA[0], boxB[0])\n",
        "    yA = max(boxA[1], boxB[1])\n",
        "    xB = min(boxA[2], boxB[2])\n",
        "    yB = min(boxA[3], boxB[3])\n",
        "    # compute the area of intersection rectangle\n",
        "    interArea = max(0, xB - xA + 1) * max(0, yB - yA + 1)\n",
        "    # compute the area of both the prediction and ground-truth\n",
        "    # rectangles\n",
        "    boxAArea = (boxA[2] - boxA[0] + 1) * (boxA[3] - boxA[1] + 1)\n",
        "    boxBArea = (boxB[2] - boxB[0] + 1) * (boxB[3] - boxB[1] + 1)\n",
        "    # compute the intersection over union by taking the intersection\n",
        "    # area and dividing it by the sum of prediction + ground-truth\n",
        "    # areas - the interesection area\n",
        "    iou = interArea / float(boxAArea + boxBArea - interArea)\n",
        "    # return the intersection over union value\n",
        "    return iou\n",
        " \n",
        " \n",
        "def averageCoordinates(df, threshold):\n",
        "    tmp_df = df.reset_index()\n",
        "    duplicate = {}\n",
        "    for index1, row1 in tmp_df.iterrows():\n",
        "        if index1 < len(tmp_df) - 1:\n",
        "            next_index = index1 + 1\n",
        "            for index2, row2 in tmp_df.loc[next_index:,:].iterrows():\n",
        "                if row1[\"class_id\"] == row2[\"class_id\"]:\n",
        "                    boxA = [row1['x_min'], row1['y_min'], row1['x_max'], row1['y_max']]\n",
        "                    boxB = [row2['x_min'], row2['y_min'], row2['x_max'], row2['y_max']]\n",
        "                    iou = bb_iou(boxA, boxB)\n",
        "                    if iou > threshold:\n",
        "                        if row1[\"index\"] not in duplicate:\n",
        "                            duplicate[row1[\"index\"]] = []\n",
        "                        duplicate[row1[\"index\"]].append(row2[\"index\"])\n",
        " \n",
        "    remove_keys = []\n",
        "    for k in duplicate:\n",
        "        for i in duplicate[k]:\n",
        "            if i in duplicate:\n",
        "                for id in duplicate[i]:\n",
        "                    if id not in duplicate[k]:\n",
        "                        duplicate[k].append(id)\n",
        "                if i not in remove_keys:\n",
        "                    remove_keys.append(i)\n",
        "    for i in remove_keys:\n",
        "        del duplicate[i]\n",
        " \n",
        "    rows = []\n",
        "    removed_index = []\n",
        "    for k in duplicate:\n",
        "        row = tmp_df[tmp_df['index'] == k].iloc[0]\n",
        "        X_min = [row['x_min']]\n",
        "        X_max = [row['x_max']]\n",
        "        Y_min = [row['y_min']]\n",
        "        Y_max = [row['y_max']]\n",
        "        removed_index.append(k)\n",
        "        for i in duplicate[k]:\n",
        "            removed_index.append(i)\n",
        "            row = tmp_df[tmp_df['index'] == i].iloc[0]\n",
        "            X_min.append(row['x_min'])\n",
        "            X_max.append(row['x_max'])\n",
        "            Y_min.append(row['y_min'])\n",
        "            Y_max.append(row['y_max'])\n",
        "        X_min_avg = sum(X_min) / len(X_min)\n",
        "        X_max_avg = sum(X_max) / len(X_max)\n",
        "        Y_min_avg = sum(Y_min) / len(Y_min)\n",
        "        Y_max_avg = sum(Y_max) / len(Y_max)\n",
        "        new_row = [row['image_id'], row['class_name'], row['class_id'], X_min_avg, Y_min_avg, X_max_avg, Y_max_avg, row['width'], row['height']]\n",
        "        rows.append(new_row)\n",
        " \n",
        "    for index, row in tmp_df.iterrows():\n",
        "        if row['index'] not in removed_index:\n",
        "            new_row = [row['image_id'], row['class_name'], row['class_id'], row['x_min'], row['y_min'], row['x_max'], row['y_max'], row['width'], row['height']]\n",
        "            rows.append(new_row)\n",
        " \n",
        "    new_df = pd.DataFrame(rows, columns =['image_id', 'class_name', 'class_id', 'x_min', 'y_min', 'x_max', 'y_max', 'width', 'height'])\n",
        "    return new_df\n",
        " \n",
        " \n",
        "images_lst = df_train.groupby('image_id').apply(list).reset_index()['image_id'].tolist()\n",
        "images_dir = '/content/vinbigdata/train/'\n",
        " \n",
        "# Add class_id=14 and class_id=15\n",
        "frames = []\n",
        "for img_id in images_lst:\n",
        "    sub_df = df_train[df_train['image_id'] == img_id].reset_index()\n",
        "    sub_df = averageCoordinates(sub_df,  0.5)\n",
        "    frames.append(sub_df)\n",
        "    rows = []\n",
        "    if int(sub_df[\"class_id\"][0]) == 14:\n",
        "        rows.append(\"14 0.5 0.5 1.0 1.0\")\n",
        "    else:\n",
        "        for index, row in sub_df.iterrows():\n",
        "            w = int(row[\"width\"])\n",
        "            h = int(row[\"height\"])\n",
        "            cx = (int(row[\"x_min\"]) + int(row[\"x_max\"])) / 2 / w\n",
        "            cy = (int(row[\"y_min\"]) + int(row[\"y_max\"])) / 2 / h\n",
        "            bw = (int(row[\"x_max\"]) - int(row[\"x_min\"])) / w\n",
        "            bh = (int(row[\"y_max\"]) - int(row[\"y_min\"])) / h\n",
        "            row = [str(row[\"class_id\"]), str(cx), str(cy), str(bw), str(bh)]\n",
        "            rows.append(\" \".join(row))\n",
        "        rows.append(\"15 0.5 0.5 1.0 1.0\")\n",
        "    f = open(images_dir + img_id + \".txt\", \"w\")\n",
        "    f.write(\"\\n\".join(rows))\n",
        "    f.close()\n",
        " \n",
        "new_df = pd.concat(frames)\n",
        "new_df.to_csv('/content/new_train.csv', index=False)"
      ],
      "execution_count": 13,
      "outputs": []
    },
    {
      "cell_type": "code",
      "metadata": {
        "id": "yEkuRTIQC1ZZ"
      },
      "source": [
        "import pandas as pd\n",
        "from sklearn.model_selection import train_test_split\n",
        " \n",
        "df_train = pd.read_csv('/content/new_train.csv')\n",
        "train, val = train_test_split(df_train, test_size=0.2)\n",
        " \n",
        "train_images_lst = train.groupby('image_id').apply(list).reset_index()['image_id'].tolist()\n",
        "val_images_lst = val.groupby('image_id').apply(list).reset_index()['image_id'].tolist()\n",
        " \n",
        " \n",
        "def createImagesTxt(_images, filepath):\n",
        "    images_dir = '/content/vinbigdata/train/'\n",
        "    rows = []\n",
        "    for img_id in _images:\n",
        "        rows.append(images_dir + img_id + '.png')\n",
        "    f = open(filepath, \"w\")\n",
        "    f.write(\"\\n\".join(rows))\n",
        "    f.close()\n",
        " \n",
        " \n",
        "train_path = '/content/train.txt'\n",
        "val_path = '/content/val.txt'\n",
        "createImagesTxt(train_images_lst, train_path)\n",
        "createImagesTxt(val_images_lst, val_path)"
      ],
      "execution_count": 14,
      "outputs": []
    },
    {
      "cell_type": "code",
      "metadata": {
        "id": "LrxfQ387C9SJ"
      },
      "source": [
        "!rm -f /content/config.yaml\r\n",
        "!echo \"train: /content/train.txt\" >> /content/config.yaml\r\n",
        "!echo \"val: /content/val.txt\" >> /content/config.yaml\r\n",
        "!echo \"nc: 16\" >> /content/config.yaml\r\n",
        "!echo \"names: ['Aortic enlargement','Atelectasis','Calcification','Cardiomegaly','Consolidation','ILD','Infiltration','Lung Opacity','Nodule/Mass','Other lesion','Pleural effusion','Pleural thickening','Pneumothorax','Pulmonary fibrosis','No finding','Finding']\" >> /content/config.yaml"
      ],
      "execution_count": 15,
      "outputs": []
    },
    {
      "cell_type": "code",
      "metadata": {
        "colab": {
          "base_uri": "https://localhost:8080/"
        },
        "id": "fzzAA3SzDDfp",
        "outputId": "413e4e30-7a0f-42ae-e94c-b3e49e0b55cb"
      },
      "source": [
        "%cd /content\n",
        "!git clone https://github.com/ultralytics/yolov5.git\n",
        " \n",
        "%cd /content/yolov5/\n",
        "!pip install -qr requirements.txt"
      ],
      "execution_count": 19,
      "outputs": [
        {
          "output_type": "stream",
          "text": [
            "/content\n",
            "Cloning into 'yolov5'...\n",
            "remote: Enumerating objects: 5437, done.\u001b[K\n",
            "remote: Total 5437 (delta 0), reused 0 (delta 0), pack-reused 5437\u001b[K\n",
            "Receiving objects: 100% (5437/5437), 8.05 MiB | 15.19 MiB/s, done.\n",
            "Resolving deltas: 100% (3716/3716), done.\n",
            "/content/yolov5\n",
            "\u001b[K     |████████████████████████████████| 645kB 7.2MB/s \n",
            "\u001b[?25h"
          ],
          "name": "stdout"
        }
      ]
    },
    {
      "cell_type": "code",
      "metadata": {
        "colab": {
          "base_uri": "https://localhost:8080/"
        },
        "id": "4EXb6enlDKGJ",
        "outputId": "b267b81c-5663-473a-b6a9-fcd18eea4201"
      },
      "source": [
        "!python train.py --img 640 --batch 16 --epochs 15 --data /content/config.yaml --weights yolov5x.pt"
      ],
      "execution_count": null,
      "outputs": [
        {
          "output_type": "stream",
          "text": [
            "\u001b[34m\u001b[1mgithub: \u001b[0mup to date with https://github.com/ultralytics/yolov5 ✅\n",
            "YOLOv5 🚀 v4.0-138-ged2c742 torch 1.8.0+cu101 CUDA:0 (Tesla T4, 15109.75MB)\n",
            "\n",
            "Namespace(adam=False, batch_size=16, bucket='', cache_images=False, cfg='', data='/content/config.yaml', device='', entity=None, epochs=15, evolve=False, exist_ok=False, global_rank=-1, hyp='data/hyp.scratch.yaml', image_weights=False, img_size=[640, 640], linear_lr=False, local_rank=-1, log_artifacts=False, log_imgs=16, multi_scale=False, name='exp', noautoanchor=False, nosave=False, notest=False, project='runs/train', quad=False, rect=False, resume=False, save_dir='runs/train/exp', single_cls=False, sync_bn=False, total_batch_size=16, weights='yolov5x.pt', workers=8, world_size=1)\n",
            "\u001b[34m\u001b[1mwandb: \u001b[0mInstall Weights & Biases for YOLOv5 logging with 'pip install wandb' (recommended)\n",
            "Start Tensorboard with \"tensorboard --logdir runs/train\", view at http://localhost:6006/\n",
            "2021-03-16 01:04:14.074742: I tensorflow/stream_executor/platform/default/dso_loader.cc:49] Successfully opened dynamic library libcudart.so.11.0\n",
            "\u001b[34m\u001b[1mhyperparameters: \u001b[0mlr0=0.01, lrf=0.2, momentum=0.937, weight_decay=0.0005, warmup_epochs=3.0, warmup_momentum=0.8, warmup_bias_lr=0.1, box=0.05, cls=0.5, cls_pw=1.0, obj=1.0, obj_pw=1.0, iou_t=0.2, anchor_t=4.0, fl_gamma=0.0, hsv_h=0.015, hsv_s=0.7, hsv_v=0.4, degrees=0.0, translate=0.1, scale=0.5, shear=0.0, perspective=0.0, flipud=0.0, fliplr=0.5, mosaic=1.0, mixup=0.0\n",
            "Downloading https://github.com/ultralytics/yolov5/releases/download/v4.0/yolov5x.pt to yolov5x.pt...\n",
            "100% 168M/168M [00:03<00:00, 45.6MB/s]\n",
            "\n",
            "Overriding model.yaml nc=80 with nc=16\n",
            "\n",
            "                 from  n    params  module                                  arguments                     \n",
            "  0                -1  1      8800  models.common.Focus                     [3, 80, 3]                    \n",
            "  1                -1  1    115520  models.common.Conv                      [80, 160, 3, 2]               \n",
            "  2                -1  1    309120  models.common.C3                        [160, 160, 4]                 \n",
            "  3                -1  1    461440  models.common.Conv                      [160, 320, 3, 2]              \n",
            "  4                -1  1   3285760  models.common.C3                        [320, 320, 12]                \n",
            "  5                -1  1   1844480  models.common.Conv                      [320, 640, 3, 2]              \n",
            "  6                -1  1  13125120  models.common.C3                        [640, 640, 12]                \n",
            "  7                -1  1   7375360  models.common.Conv                      [640, 1280, 3, 2]             \n",
            "  8                -1  1   4099840  models.common.SPP                       [1280, 1280, [5, 9, 13]]      \n",
            "  9                -1  1  19676160  models.common.C3                        [1280, 1280, 4, False]        \n",
            " 10                -1  1    820480  models.common.Conv                      [1280, 640, 1, 1]             \n",
            " 11                -1  1         0  torch.nn.modules.upsampling.Upsample    [None, 2, 'nearest']          \n",
            " 12           [-1, 6]  1         0  models.common.Concat                    [1]                           \n",
            " 13                -1  1   5332480  models.common.C3                        [1280, 640, 4, False]         \n",
            " 14                -1  1    205440  models.common.Conv                      [640, 320, 1, 1]              \n",
            " 15                -1  1         0  torch.nn.modules.upsampling.Upsample    [None, 2, 'nearest']          \n",
            " 16           [-1, 4]  1         0  models.common.Concat                    [1]                           \n",
            " 17                -1  1   1335040  models.common.C3                        [640, 320, 4, False]          \n",
            " 18                -1  1    922240  models.common.Conv                      [320, 320, 3, 2]              \n",
            " 19          [-1, 14]  1         0  models.common.Concat                    [1]                           \n",
            " 20                -1  1   4922880  models.common.C3                        [640, 640, 4, False]          \n",
            " 21                -1  1   3687680  models.common.Conv                      [640, 640, 3, 2]              \n",
            " 22          [-1, 10]  1         0  models.common.Concat                    [1]                           \n",
            " 23                -1  1  19676160  models.common.C3                        [1280, 1280, 4, False]        \n",
            " 24      [17, 20, 23]  1    141309  models.yolo.Detect                      [16, [[10, 13, 16, 30, 33, 23], [30, 61, 62, 45, 59, 119], [116, 90, 156, 198, 373, 326]], [320, 640, 1280]]\n",
            "Model Summary: 607 layers, 87345309 parameters, 87345309 gradients, 217.6 GFLOPS\n",
            "\n",
            "Transferred 788/794 items from yolov5x.pt\n",
            "Scaled weight_decay = 0.0005\n",
            "Optimizer groups: 134 .bias, 134 conv.weight, 131 other\n",
            "\u001b[34m\u001b[1mtrain: \u001b[0mScanning '/content/train' images and labels... 14819 found, 0 missing, 0 empty, 0 corrupted: 100% 14819/14819 [03:21<00:00, 73.57it/s]\n",
            "\u001b[34m\u001b[1mtrain: \u001b[0mNew cache created: /content/train.cache\n",
            "\u001b[34m\u001b[1mval: \u001b[0mScanning '/content/val' images and labels... 7818 found, 0 missing, 0 empty, 0 corrupted: 100% 7818/7818 [01:42<00:00, 76.06it/s] \n",
            "\u001b[34m\u001b[1mval: \u001b[0mNew cache created: /content/val.cache\n",
            "Plotting labels... \n",
            "\n",
            "\u001b[34m\u001b[1mautoanchor: \u001b[0mAnalyzing anchors... anchors/target = 3.58, Best Possible Recall (BPR) = 0.9998\n",
            "Image sizes 640 train, 640 test\n",
            "Using 2 dataloader workers\n",
            "Logging results to runs/train/exp\n",
            "Starting training for 15 epochs...\n",
            "\n",
            "     Epoch   gpu_mem       box       obj       cls     total    labels  img_size\n",
            "      0/14     13.3G   0.06878   0.02755   0.04816    0.1445         7       640: 100% 927/927 [22:27<00:00,  1.45s/it]\n",
            "               Class      Images      Labels           P           R      mAP@.5  mAP@.5:.95: 100% 245/245 [04:33<00:00,  1.12s/it]\n",
            "                 all        7818       25732       0.414       0.206       0.157       0.124\n",
            "\n",
            "     Epoch   gpu_mem       box       obj       cls     total    labels  img_size\n",
            "      1/14     13.7G   0.05406    0.0203    0.0306     0.105        11       640: 100% 927/927 [21:56<00:00,  1.42s/it]\n",
            "               Class      Images      Labels           P           R      mAP@.5  mAP@.5:.95: 100% 245/245 [04:55<00:00,  1.21s/it]\n",
            "                 all        7818       25732       0.268       0.363        0.19       0.112\n",
            "\n",
            "     Epoch   gpu_mem       box       obj       cls     total    labels  img_size\n",
            "      2/14     13.7G     0.052   0.01993   0.02871    0.1006        16       640: 100% 927/927 [21:46<00:00,  1.41s/it]\n",
            "               Class      Images      Labels           P           R      mAP@.5  mAP@.5:.95: 100% 245/245 [04:32<00:00,  1.11s/it]\n",
            "                 all        7818       25732       0.431       0.348       0.279       0.171\n",
            "\n",
            "     Epoch   gpu_mem       box       obj       cls     total    labels  img_size\n",
            "      3/14     13.7G   0.04958   0.01944    0.0277   0.09673        10       640: 100% 927/927 [21:42<00:00,  1.41s/it]\n",
            "               Class      Images      Labels           P           R      mAP@.5  mAP@.5:.95: 100% 245/245 [04:32<00:00,  1.11s/it]\n",
            "                 all        7818       25732       0.475       0.344       0.306       0.186\n",
            "\n",
            "     Epoch   gpu_mem       box       obj       cls     total    labels  img_size\n",
            "      4/14     13.7G   0.04723   0.01806   0.02657   0.09187        20       640: 100% 927/927 [21:45<00:00,  1.41s/it]\n",
            "               Class      Images      Labels           P           R      mAP@.5  mAP@.5:.95: 100% 245/245 [04:30<00:00,  1.10s/it]\n",
            "                 all        7818       25732       0.433       0.368       0.319       0.188\n",
            "\n",
            "     Epoch   gpu_mem       box       obj       cls     total    labels  img_size\n",
            "      5/14     13.7G   0.04526   0.01798   0.02549   0.08872        19       640: 100% 927/927 [21:44<00:00,  1.41s/it]\n",
            "               Class      Images      Labels           P           R      mAP@.5  mAP@.5:.95: 100% 245/245 [04:33<00:00,  1.11s/it]\n",
            "                 all        7818       25732       0.425       0.439       0.365       0.217\n",
            "\n",
            "     Epoch   gpu_mem       box       obj       cls     total    labels  img_size\n",
            "      6/14     13.7G   0.04381   0.01696   0.02446   0.08523        16       640: 100% 927/927 [21:47<00:00,  1.41s/it]\n",
            "               Class      Images      Labels           P           R      mAP@.5  mAP@.5:.95: 100% 245/245 [04:30<00:00,  1.10s/it]\n",
            "                 all        7818       25732       0.479       0.394       0.369       0.213\n",
            "\n",
            "     Epoch   gpu_mem       box       obj       cls     total    labels  img_size\n",
            "      7/14     13.7G   0.04269   0.01676   0.02384   0.08329        35       640: 100% 927/927 [21:46<00:00,  1.41s/it]\n",
            "               Class      Images      Labels           P           R      mAP@.5  mAP@.5:.95: 100% 245/245 [04:32<00:00,  1.11s/it]\n",
            "                 all        7818       25732       0.486       0.452       0.417       0.247\n",
            "\n",
            "     Epoch   gpu_mem       box       obj       cls     total    labels  img_size\n",
            "      8/14     13.7G    0.0413   0.01606   0.02326   0.08062        18       640: 100% 927/927 [21:47<00:00,  1.41s/it]\n",
            "               Class      Images      Labels           P           R      mAP@.5  mAP@.5:.95: 100% 245/245 [04:31<00:00,  1.11s/it]\n",
            "                 all        7818       25732       0.468       0.465       0.439       0.261\n",
            "\n",
            "     Epoch   gpu_mem       box       obj       cls     total    labels  img_size\n",
            "      9/14     13.7G   0.04033   0.01606   0.02274   0.07913        24       640: 100% 927/927 [21:46<00:00,  1.41s/it]\n",
            "               Class      Images      Labels           P           R      mAP@.5  mAP@.5:.95: 100% 245/245 [04:31<00:00,  1.11s/it]\n",
            "                 all        7818       25732       0.445       0.486       0.442       0.256\n",
            "\n",
            "     Epoch   gpu_mem       box       obj       cls     total    labels  img_size\n",
            "     10/14     13.7G   0.03919   0.01551     0.022    0.0767        11       640: 100% 927/927 [21:45<00:00,  1.41s/it]\n",
            "               Class      Images      Labels           P           R      mAP@.5  mAP@.5:.95: 100% 245/245 [04:30<00:00,  1.11s/it]\n",
            "                 all        7818       25732       0.459       0.468       0.436        0.25\n",
            "\n",
            "     Epoch   gpu_mem       box       obj       cls     total    labels  img_size\n",
            "     11/14     13.7G   0.03827   0.01499   0.02131   0.07457        13       640: 100% 927/927 [21:46<00:00,  1.41s/it]\n",
            "               Class      Images      Labels           P           R      mAP@.5  mAP@.5:.95: 100% 245/245 [04:30<00:00,  1.11s/it]\n",
            "                 all        7818       25732       0.515       0.516       0.499       0.295\n",
            "\n",
            "     Epoch   gpu_mem       box       obj       cls     total    labels  img_size\n",
            "     12/14     13.7G   0.03738   0.01477   0.02079   0.07294        22       640: 100% 927/927 [21:37<00:00,  1.40s/it]\n",
            "               Class      Images      Labels           P           R      mAP@.5  mAP@.5:.95: 100% 245/245 [04:31<00:00,  1.11s/it]\n",
            "                 all        7818       25732       0.517       0.547       0.517       0.304\n",
            "\n",
            "     Epoch   gpu_mem       box       obj       cls     total    labels  img_size\n",
            "     13/14     13.7G   0.03652   0.01447   0.02042   0.07142        10       640: 100% 927/927 [21:31<00:00,  1.39s/it]\n",
            "               Class      Images      Labels           P           R      mAP@.5  mAP@.5:.95: 100% 245/245 [04:18<00:00,  1.06s/it]\n",
            "                 all        7818       25732       0.561       0.552       0.544       0.314\n",
            "\n",
            "     Epoch   gpu_mem       box       obj       cls     total    labels  img_size\n",
            "     14/14     13.7G   0.03579   0.01422   0.02004   0.07004         7       640: 100% 927/927 [21:23<00:00,  1.38s/it]\n",
            "               Class      Images      Labels           P           R      mAP@.5  mAP@.5:.95: 100% 245/245 [04:31<00:00,  1.11s/it]\n",
            "                 all        7818       25732       0.562       0.563        0.56        0.33\n",
            "  Aortic enlargement        7818        2009       0.724       0.906       0.905       0.581\n",
            "         Atelectasis        7818         188       0.473       0.282       0.332       0.122\n",
            "       Calcification        7818         593       0.442       0.536       0.464       0.204\n",
            "        Cardiomegaly        7818        1381       0.652       0.898       0.889        0.59\n",
            "       Consolidation        7818         365       0.633       0.397       0.476       0.233\n",
            "                 ILD        7818         555       0.551       0.309       0.389       0.159\n",
            "        Infiltration        7818         760       0.585       0.431       0.473       0.208\n",
            "        Lung Opacity        7818        1626       0.556       0.434       0.479       0.192\n",
            "         Nodule/Mass        7818        1603       0.451       0.593       0.507       0.242\n",
            "        Other lesion        7818        1446       0.328       0.266       0.231      0.0915\n",
            "    Pleural effusion        7818        1462       0.564       0.483       0.504       0.167\n",
            "  Pleural thickening        7818        3165       0.428       0.415       0.378       0.117\n",
            "        Pneumothorax        7818         102        0.32       0.578       0.486       0.225\n",
            "  Pulmonary fibrosis        7818        2659       0.475       0.487       0.461       0.164\n",
            "          No finding        7818        5157       0.949       0.997       0.996       0.996\n",
            "             Finding        7818        2661       0.868       0.991       0.992       0.982\n",
            "Optimizer stripped from runs/train/exp/weights/last.pt, 175.3MB\n",
            "Optimizer stripped from runs/train/exp/weights/best.pt, 175.3MB\n",
            "15 epochs completed in 6.610 hours.\n",
            "\n"
          ],
          "name": "stdout"
        }
      ]
    },
    {
      "cell_type": "code",
      "metadata": {
        "id": "hcHS-DVPfqW0"
      },
      "source": [
        "!zip -r /content/file.zip /content/yolov5/"
      ],
      "execution_count": null,
      "outputs": []
    },
    {
      "cell_type": "code",
      "metadata": {
        "colab": {
          "base_uri": "https://localhost:8080/"
        },
        "id": "ouIND8xPAwTo",
        "outputId": "0cb4fb6a-b718-48b1-f144-d0916c1626ed"
      },
      "source": [
        "!python train.py --img 640 --batch 16 --epochs 15 --data /content/config.yaml --weights /content/yolov5/runs/train/exp2/weights/last.pt"
      ],
      "execution_count": 20,
      "outputs": [
        {
          "output_type": "stream",
          "text": [
            "\u001b[34m\u001b[1mgithub: \u001b[0mup to date with https://github.com/ultralytics/yolov5 ✅\n",
            "YOLOv5 🚀 v4.0-138-ged2c742 torch 1.8.0+cu101 CUDA:0 (Tesla T4, 15109.75MB)\n",
            "\n",
            "Namespace(adam=False, batch_size=16, bucket='', cache_images=False, cfg='', data='/content/config.yaml', device='', entity=None, epochs=15, evolve=False, exist_ok=False, global_rank=-1, hyp='data/hyp.scratch.yaml', image_weights=False, img_size=[640, 640], linear_lr=False, local_rank=-1, log_artifacts=False, log_imgs=16, multi_scale=False, name='exp', noautoanchor=False, nosave=False, notest=False, project='runs/train', quad=False, rect=False, resume=False, save_dir='runs/train/exp', single_cls=False, sync_bn=False, total_batch_size=16, weights='/content/yolov5/runs/train/exp2/weights/last.pt', workers=8, world_size=1)\n",
            "\u001b[34m\u001b[1mwandb: \u001b[0mInstall Weights & Biases for YOLOv5 logging with 'pip install wandb' (recommended)\n",
            "Start Tensorboard with \"tensorboard --logdir runs/train\", view at http://localhost:6006/\n",
            "2021-03-17 04:26:19.545238: I tensorflow/stream_executor/platform/default/dso_loader.cc:49] Successfully opened dynamic library libcudart.so.11.0\n",
            "\u001b[34m\u001b[1mhyperparameters: \u001b[0mlr0=0.01, lrf=0.2, momentum=0.937, weight_decay=0.0005, warmup_epochs=3.0, warmup_momentum=0.8, warmup_bias_lr=0.1, box=0.05, cls=0.5, cls_pw=1.0, obj=1.0, obj_pw=1.0, iou_t=0.2, anchor_t=4.0, fl_gamma=0.0, hsv_h=0.015, hsv_s=0.7, hsv_v=0.4, degrees=0.0, translate=0.1, scale=0.5, shear=0.0, perspective=0.0, flipud=0.0, fliplr=0.5, mosaic=1.0, mixup=0.0\n",
            "\n",
            "                 from  n    params  module                                  arguments                     \n",
            "  0                -1  1      8800  models.common.Focus                     [3, 80, 3]                    \n",
            "  1                -1  1    115520  models.common.Conv                      [80, 160, 3, 2]               \n",
            "  2                -1  1    309120  models.common.C3                        [160, 160, 4]                 \n",
            "  3                -1  1    461440  models.common.Conv                      [160, 320, 3, 2]              \n",
            "  4                -1  1   3285760  models.common.C3                        [320, 320, 12]                \n",
            "  5                -1  1   1844480  models.common.Conv                      [320, 640, 3, 2]              \n",
            "  6                -1  1  13125120  models.common.C3                        [640, 640, 12]                \n",
            "  7                -1  1   7375360  models.common.Conv                      [640, 1280, 3, 2]             \n",
            "  8                -1  1   4099840  models.common.SPP                       [1280, 1280, [5, 9, 13]]      \n",
            "  9                -1  1  19676160  models.common.C3                        [1280, 1280, 4, False]        \n",
            " 10                -1  1    820480  models.common.Conv                      [1280, 640, 1, 1]             \n",
            " 11                -1  1         0  torch.nn.modules.upsampling.Upsample    [None, 2, 'nearest']          \n",
            " 12           [-1, 6]  1         0  models.common.Concat                    [1]                           \n",
            " 13                -1  1   5332480  models.common.C3                        [1280, 640, 4, False]         \n",
            " 14                -1  1    205440  models.common.Conv                      [640, 320, 1, 1]              \n",
            " 15                -1  1         0  torch.nn.modules.upsampling.Upsample    [None, 2, 'nearest']          \n",
            " 16           [-1, 4]  1         0  models.common.Concat                    [1]                           \n",
            " 17                -1  1   1335040  models.common.C3                        [640, 320, 4, False]          \n",
            " 18                -1  1    922240  models.common.Conv                      [320, 320, 3, 2]              \n",
            " 19          [-1, 14]  1         0  models.common.Concat                    [1]                           \n",
            " 20                -1  1   4922880  models.common.C3                        [640, 640, 4, False]          \n",
            " 21                -1  1   3687680  models.common.Conv                      [640, 640, 3, 2]              \n",
            " 22          [-1, 10]  1         0  models.common.Concat                    [1]                           \n",
            " 23                -1  1  19676160  models.common.C3                        [1280, 1280, 4, False]        \n",
            " 24      [17, 20, 23]  1    141309  models.yolo.Detect                      [16, [[10, 13, 16, 30, 33, 23], [30, 61, 62, 45, 59, 119], [116, 90, 156, 198, 373, 326]], [320, 640, 1280]]\n",
            "Model Summary: 607 layers, 87345309 parameters, 87345309 gradients, 217.6 GFLOPS\n",
            "\n",
            "Transferred 794/794 items from /content/yolov5/runs/train/exp2/weights/last.pt\n",
            "Scaled weight_decay = 0.0005\n",
            "Optimizer groups: 134 .bias, 134 conv.weight, 131 other\n",
            "\u001b[34m\u001b[1mtrain: \u001b[0mScanning '/content/train' images and labels... 14836 found, 0 missing, 0 empty, 0 corrupted: 100% 14836/14836 [03:21<00:00, 73.47it/s]\n",
            "\u001b[34m\u001b[1mtrain: \u001b[0mNew cache created: /content/train.cache\n",
            "\u001b[34m\u001b[1mval: \u001b[0mScanning '/content/val' images and labels... 7918 found, 0 missing, 0 empty, 0 corrupted: 100% 7918/7918 [01:47<00:00, 73.67it/s]\n",
            "\u001b[34m\u001b[1mval: \u001b[0mNew cache created: /content/val.cache\n",
            "Plotting labels... \n",
            "\n",
            "\u001b[34m\u001b[1mautoanchor: \u001b[0mAnalyzing anchors... anchors/target = 3.58, Best Possible Recall (BPR) = 0.9998\n",
            "Image sizes 640 train, 640 test\n",
            "Using 2 dataloader workers\n",
            "Logging results to runs/train/exp\n",
            "Starting training for 15 epochs...\n",
            "\n",
            "     Epoch   gpu_mem       box       obj       cls     total    labels  img_size\n",
            "      0/14     13.3G    0.0354   0.01423   0.01968   0.06931        12       640: 100% 928/928 [22:31<00:00,  1.46s/it]\n",
            "               Class      Images      Labels           P           R      mAP@.5  mAP@.5:.95: 100% 248/248 [04:43<00:00,  1.14s/it]\n",
            "                 all        7918       25680       0.573       0.585       0.577       0.334\n",
            "\n",
            "     Epoch   gpu_mem       box       obj       cls     total    labels  img_size\n",
            "      1/14     13.7G    0.0361    0.0143   0.01932   0.06971        18       640: 100% 928/928 [22:03<00:00,  1.43s/it]\n",
            "               Class      Images      Labels           P           R      mAP@.5  mAP@.5:.95: 100% 248/248 [04:34<00:00,  1.11s/it]\n",
            "                 all        7918       25680       0.558       0.563       0.555       0.309\n",
            "\n",
            "     Epoch   gpu_mem       box       obj       cls     total    labels  img_size\n",
            "      2/14     13.7G   0.03907   0.01559   0.02077   0.07544        14       640: 100% 928/928 [21:56<00:00,  1.42s/it]\n",
            "               Class      Images      Labels           P           R      mAP@.5  mAP@.5:.95: 100% 248/248 [04:33<00:00,  1.10s/it]\n",
            "                 all        7918       25680       0.439       0.371       0.336       0.197\n",
            "\n",
            "     Epoch   gpu_mem       box       obj       cls     total    labels  img_size\n",
            "      3/14     13.7G   0.04137   0.01669   0.02256   0.08061        13       640: 100% 928/928 [21:53<00:00,  1.42s/it]\n",
            "               Class      Images      Labels           P           R      mAP@.5  mAP@.5:.95: 100% 248/248 [04:34<00:00,  1.11s/it]\n",
            "                 all        7918       25680       0.483       0.474       0.439       0.252\n",
            "\n",
            "     Epoch   gpu_mem       box       obj       cls     total    labels  img_size\n",
            "      4/14     13.7G   0.04128   0.01626   0.02255   0.08009        17       640: 100% 928/928 [21:54<00:00,  1.42s/it]\n",
            "               Class      Images      Labels           P           R      mAP@.5  mAP@.5:.95: 100% 248/248 [04:36<00:00,  1.12s/it]\n",
            "                 all        7918       25680       0.447       0.489       0.445       0.252\n",
            "\n",
            "     Epoch   gpu_mem       box       obj       cls     total    labels  img_size\n",
            "      5/14     13.7G   0.04023   0.01587   0.02154   0.07765        18       640: 100% 928/928 [21:53<00:00,  1.42s/it]\n",
            "               Class      Images      Labels           P           R      mAP@.5  mAP@.5:.95: 100% 248/248 [04:35<00:00,  1.11s/it]\n",
            "                 all        7918       25680       0.503       0.519       0.489       0.278\n",
            "\n",
            "     Epoch   gpu_mem       box       obj       cls     total    labels  img_size\n",
            "      6/14     13.7G   0.03968    0.0155   0.02158   0.07675        36       640: 100% 928/928 [21:53<00:00,  1.42s/it]\n",
            "               Class      Images      Labels           P           R      mAP@.5  mAP@.5:.95: 100% 248/248 [04:35<00:00,  1.11s/it]\n",
            "                 all        7918       25680       0.536       0.492       0.495       0.285\n",
            "\n",
            "     Epoch   gpu_mem       box       obj       cls     total    labels  img_size\n",
            "      7/14     13.7G   0.03892   0.01524   0.02097   0.07514        17       640: 100% 928/928 [21:52<00:00,  1.41s/it]\n",
            "               Class      Images      Labels           P           R      mAP@.5  mAP@.5:.95: 100% 248/248 [04:34<00:00,  1.11s/it]\n",
            "                 all        7918       25680       0.533        0.52        0.52       0.285\n",
            "\n",
            "     Epoch   gpu_mem       box       obj       cls     total    labels  img_size\n",
            "      8/14     13.7G   0.03787   0.01496   0.02058   0.07341        32       640: 100% 928/928 [21:53<00:00,  1.42s/it]\n",
            "               Class      Images      Labels           P           R      mAP@.5  mAP@.5:.95: 100% 248/248 [04:35<00:00,  1.11s/it]\n",
            "                 all        7918       25680       0.555       0.555       0.548        0.31\n",
            "\n",
            "     Epoch   gpu_mem       box       obj       cls     total    labels  img_size\n",
            "      9/14     13.7G   0.03703   0.01457   0.02002   0.07163        20       640: 100% 928/928 [21:53<00:00,  1.42s/it]\n",
            "               Class      Images      Labels           P           R      mAP@.5  mAP@.5:.95: 100% 248/248 [04:36<00:00,  1.11s/it]\n",
            "                 all        7918       25680       0.534       0.555       0.537        0.31\n",
            "\n",
            "     Epoch   gpu_mem       box       obj       cls     total    labels  img_size\n",
            "     10/14     13.7G    0.0361   0.01424   0.01935    0.0697        16       640: 100% 928/928 [21:52<00:00,  1.41s/it]\n",
            "               Class      Images      Labels           P           R      mAP@.5  mAP@.5:.95: 100% 248/248 [04:34<00:00,  1.11s/it]\n",
            "                 all        7918       25680       0.537       0.596       0.569       0.327\n",
            "\n",
            "     Epoch   gpu_mem       box       obj       cls     total    labels  img_size\n",
            "     11/14     13.7G   0.03548   0.01407   0.01918   0.06872        35       640: 100% 928/928 [21:53<00:00,  1.41s/it]\n",
            "               Class      Images      Labels           P           R      mAP@.5  mAP@.5:.95: 100% 248/248 [04:34<00:00,  1.11s/it]\n",
            "                 all        7918       25680       0.564       0.581       0.578       0.334\n",
            "\n",
            "     Epoch   gpu_mem       box       obj       cls     total    labels  img_size\n",
            "     12/14     13.7G   0.03426   0.01338   0.01876   0.06639        21       640: 100% 928/928 [21:54<00:00,  1.42s/it]\n",
            "               Class      Images      Labels           P           R      mAP@.5  mAP@.5:.95: 100% 248/248 [04:35<00:00,  1.11s/it]\n",
            "                 all        7918       25680       0.633       0.598       0.621       0.353\n",
            "\n",
            "     Epoch   gpu_mem       box       obj       cls     total    labels  img_size\n",
            "     13/14     13.7G   0.03368   0.01357   0.01833   0.06558        17       640: 100% 928/928 [21:54<00:00,  1.42s/it]\n",
            "               Class      Images      Labels           P           R      mAP@.5  mAP@.5:.95: 100% 248/248 [04:35<00:00,  1.11s/it]\n",
            "                 all        7918       25680        0.63       0.635       0.649       0.379\n",
            "\n",
            "     Epoch   gpu_mem       box       obj       cls     total    labels  img_size\n",
            "     14/14     13.7G     0.033   0.01309   0.01788   0.06397        27       640: 100% 928/928 [21:52<00:00,  1.41s/it]\n",
            "               Class      Images      Labels           P           R      mAP@.5  mAP@.5:.95: 100% 248/248 [04:44<00:00,  1.15s/it]\n",
            "                 all        7918       25680        0.65       0.646       0.666       0.392\n",
            "  Aortic enlargement        7918        1963       0.732       0.907       0.911       0.594\n",
            "         Atelectasis        7918         194       0.818       0.356       0.554       0.228\n",
            "       Calcification        7918         621       0.486        0.72       0.607       0.284\n",
            "        Cardiomegaly        7918        1288       0.628       0.929       0.914       0.626\n",
            "       Consolidation        7918         370       0.714       0.527       0.635       0.327\n",
            "                 ILD        7918         554       0.624       0.487       0.563       0.248\n",
            "        Infiltration        7918         780       0.675       0.532        0.63       0.311\n",
            "        Lung Opacity        7918        1614       0.586       0.565        0.58       0.259\n",
            "         Nodule/Mass        7918        1575       0.556        0.67        0.61       0.298\n",
            "        Other lesion        7918        1410       0.543       0.418       0.442       0.187\n",
            "    Pleural effusion        7918        1417       0.577        0.54       0.562       0.213\n",
            "  Pleural thickening        7918        3154       0.532       0.434        0.46        0.16\n",
            "        Pneumothorax        7918         104       0.494       0.702       0.632       0.331\n",
            "  Pulmonary fibrosis        7918        2718        0.57       0.551       0.561       0.227\n",
            "          No finding        7918        5284       0.966       0.996       0.997       0.996\n",
            "             Finding        7918        2634       0.902       0.995       0.994       0.983\n",
            "Optimizer stripped from runs/train/exp/weights/last.pt, 175.3MB\n",
            "Optimizer stripped from runs/train/exp/weights/best.pt, 175.3MB\n",
            "15 epochs completed in 6.662 hours.\n",
            "\n"
          ],
          "name": "stdout"
        }
      ]
    },
    {
      "cell_type": "code",
      "metadata": {
        "colab": {
          "base_uri": "https://localhost:8080/"
        },
        "id": "mtbUEsf00eB3",
        "outputId": "df43804d-3b77-4c1d-f82a-0564172a43b9"
      },
      "source": [
        "!zip -r /content/file0666.zip /content/yolov5/"
      ],
      "execution_count": null,
      "outputs": [
        {
          "output_type": "stream",
          "text": [
            "  adding: content/yolov5/ (stored 0%)\n",
            "  adding: content/yolov5/data/ (stored 0%)\n",
            "  adding: content/yolov5/data/scripts/ (stored 0%)\n",
            "  adding: content/yolov5/data/scripts/get_coco.sh (deflated 52%)\n",
            "  adding: content/yolov5/data/scripts/get_argoverse_hd.sh (deflated 55%)\n",
            "  adding: content/yolov5/data/scripts/get_voc.sh (deflated 63%)\n",
            "  adding: content/yolov5/data/images/ (stored 0%)\n",
            "  adding: content/yolov5/data/images/zidane.jpg (deflated 0%)\n",
            "  adding: content/yolov5/data/images/bus.jpg (deflated 1%)\n",
            "  adding: content/yolov5/data/coco.yaml (deflated 49%)\n",
            "  adding: content/yolov5/data/hyp.finetune.yaml (deflated 45%)\n",
            "  adding: content/yolov5/data/voc.yaml (deflated 43%)\n",
            "  adding: content/yolov5/data/coco128.yaml (deflated 51%)\n",
            "  adding: content/yolov5/data/hyp.scratch.yaml (deflated 54%)\n",
            "  adding: content/yolov5/data/argoverse_hd.yaml (deflated 45%)\n",
            "  adding: content/yolov5/Dockerfile (deflated 57%)\n",
            "  adding: content/yolov5/.gitattributes (deflated 4%)\n",
            "  adding: content/yolov5/models/ (stored 0%)\n",
            "  adding: content/yolov5/models/yolov5m.yaml (deflated 62%)\n",
            "  adding: content/yolov5/models/yolov5l.yaml (deflated 62%)\n",
            "  adding: content/yolov5/models/export.py (deflated 61%)\n",
            "  adding: content/yolov5/models/common.py (deflated 69%)\n",
            "  adding: content/yolov5/models/__pycache__/ (stored 0%)\n",
            "  adding: content/yolov5/models/__pycache__/__init__.cpython-37.pyc (deflated 26%)\n",
            "  adding: content/yolov5/models/__pycache__/common.cpython-37.pyc (deflated 58%)\n",
            "  adding: content/yolov5/models/__pycache__/yolo.cpython-37.pyc (deflated 44%)\n",
            "  adding: content/yolov5/models/__pycache__/experimental.cpython-37.pyc (deflated 51%)\n",
            "  adding: content/yolov5/models/yolov5s.yaml (deflated 62%)\n",
            "  adding: content/yolov5/models/yolo.py (deflated 64%)\n",
            "  adding: content/yolov5/models/hub/ (stored 0%)\n",
            "  adding: content/yolov5/models/hub/yolov5-p2.yaml (deflated 71%)\n",
            "  adding: content/yolov5/models/hub/yolov5-panet.yaml (deflated 63%)\n",
            "  adding: content/yolov5/models/hub/yolov3-tiny.yaml (deflated 62%)\n",
            "  adding: content/yolov5/models/hub/yolov5s6.yaml (deflated 69%)\n",
            "  adding: content/yolov5/models/hub/anchors.yaml (deflated 74%)\n",
            "  adding: content/yolov5/models/hub/yolov3-spp.yaml (deflated 64%)\n",
            "  adding: content/yolov5/models/hub/yolov5-p6.yaml (deflated 71%)\n",
            "  adding: content/yolov5/models/hub/yolov5-p7.yaml (deflated 74%)\n",
            "  adding: content/yolov5/models/hub/yolov5m6.yaml (deflated 69%)\n",
            "  adding: content/yolov5/models/hub/yolov5-fpn.yaml (deflated 59%)\n",
            "  adding: content/yolov5/models/hub/yolov5l6.yaml (deflated 69%)\n",
            "  adding: content/yolov5/models/hub/yolov3.yaml (deflated 65%)\n",
            "  adding: content/yolov5/models/hub/yolov5x6.yaml (deflated 69%)\n",
            "  adding: content/yolov5/models/yolov5x.yaml (deflated 62%)\n",
            "  adding: content/yolov5/models/__init__.py (stored 0%)\n",
            "  adding: content/yolov5/models/experimental.py (deflated 65%)\n",
            "  adding: content/yolov5/hubconf.py (deflated 73%)\n",
            "  adding: content/yolov5/__pycache__/ (stored 0%)\n",
            "  adding: content/yolov5/__pycache__/test.cpython-37.pyc (deflated 40%)\n",
            "  adding: content/yolov5/weights/ (stored 0%)\n",
            "  adding: content/yolov5/weights/download_weights.sh (deflated 28%)\n",
            "  adding: content/yolov5/tutorial.ipynb (deflated 33%)\n",
            "  adding: content/yolov5/.github/ (stored 0%)\n",
            "  adding: content/yolov5/.github/dependabot.yml (deflated 27%)\n",
            "  adding: content/yolov5/.github/ISSUE_TEMPLATE/ (stored 0%)\n",
            "  adding: content/yolov5/.github/ISSUE_TEMPLATE/bug-report.md (deflated 41%)\n",
            "  adding: content/yolov5/.github/ISSUE_TEMPLATE/feature-request.md (deflated 48%)\n",
            "  adding: content/yolov5/.github/ISSUE_TEMPLATE/question.md (deflated 21%)\n",
            "  adding: content/yolov5/.github/workflows/ (stored 0%)\n",
            "  adding: content/yolov5/.github/workflows/rebase.yml (deflated 44%)\n",
            "  adding: content/yolov5/.github/workflows/ci-testing.yml (deflated 62%)\n",
            "  adding: content/yolov5/.github/workflows/greetings.yml (deflated 61%)\n",
            "  adding: content/yolov5/.github/workflows/stale.yml (deflated 55%)\n",
            "  adding: content/yolov5/.github/workflows/codeql-analysis.yml (deflated 51%)\n",
            "  adding: content/yolov5/.gitignore (deflated 56%)\n",
            "  adding: content/yolov5/requirements.txt (deflated 51%)\n",
            "  adding: content/yolov5/train.py (deflated 69%)\n",
            "  adding: content/yolov5/runs/ (stored 0%)\n",
            "  adding: content/yolov5/runs/train/ (stored 0%)\n",
            "  adding: content/yolov5/runs/train/exp2/ (stored 0%)\n",
            "  adding: content/yolov5/runs/train/exp2/train_batch0.jpg (deflated 5%)\n",
            "  adding: content/yolov5/runs/train/exp2/test_batch0_labels.jpg (deflated 8%)\n",
            "  adding: content/yolov5/runs/train/exp2/F1_curve.png (deflated 4%)\n",
            "  adding: content/yolov5/runs/train/exp2/labels_correlogram.jpg (deflated 34%)\n",
            "  adding: content/yolov5/runs/train/exp2/hyp.yaml (deflated 44%)\n",
            "  adding: content/yolov5/runs/train/exp2/test_batch1_labels.jpg (deflated 11%)\n",
            "  adding: content/yolov5/runs/train/exp2/events.out.tfevents.1615881044.d413d3f36d0f.6005.0 (deflated 54%)\n",
            "  adding: content/yolov5/runs/train/exp2/test_batch0_pred.jpg (deflated 5%)\n",
            "  adding: content/yolov5/runs/train/exp2/R_curve.png (deflated 4%)\n",
            "  adding: content/yolov5/runs/train/exp2/weights/ (stored 0%)\n",
            "  adding: content/yolov5/runs/train/exp2/weights/last.pt (deflated 8%)\n",
            "  adding: content/yolov5/runs/train/exp2/weights/best.pt"
          ],
          "name": "stdout"
        }
      ]
    },
    {
      "cell_type": "code",
      "metadata": {
        "id": "4mBPUMqWWaE6",
        "colab": {
          "base_uri": "https://localhost:8080/"
        },
        "outputId": "25eca6d7-53dc-44c8-9c30-f904930d9aab"
      },
      "source": [
        "!zip -r /content/file1.zip /content/yolov5/runs/train/exp2"
      ],
      "execution_count": null,
      "outputs": [
        {
          "output_type": "stream",
          "text": [
            "  adding: content/yolov5/runs/train/exp2/ (stored 0%)\n",
            "  adding: content/yolov5/runs/train/exp2/test_batch0_pred.jpg (deflated 5%)\n",
            "  adding: content/yolov5/runs/train/exp2/labels_correlogram.jpg (deflated 34%)\n",
            "  adding: content/yolov5/runs/train/exp2/confusion_matrix.png (deflated 13%)\n",
            "  adding: content/yolov5/runs/train/exp2/results.txt (deflated 70%)\n",
            "  adding: content/yolov5/runs/train/exp2/events.out.tfevents.1615881044.d413d3f36d0f.6005.0 (deflated 54%)\n",
            "  adding: content/yolov5/runs/train/exp2/hyp.yaml (deflated 44%)\n",
            "  adding: content/yolov5/runs/train/exp2/PR_curve.png (deflated 4%)\n",
            "  adding: content/yolov5/runs/train/exp2/weights/ (stored 0%)\n",
            "  adding: content/yolov5/runs/train/exp2/weights/last.pt (deflated 8%)\n",
            "  adding: content/yolov5/runs/train/exp2/weights/best.pt (deflated 8%)\n",
            "  adding: content/yolov5/runs/train/exp2/results.png (deflated 7%)\n",
            "  adding: content/yolov5/runs/train/exp2/test_batch2_pred.jpg (deflated 6%)\n",
            "  adding: content/yolov5/runs/train/exp2/opt.yaml (deflated 48%)\n",
            "  adding: content/yolov5/runs/train/exp2/F1_curve.png (deflated 4%)\n",
            "  adding: content/yolov5/runs/train/exp2/train_batch0.jpg (deflated 5%)\n",
            "  adding: content/yolov5/runs/train/exp2/train_batch1.jpg (deflated 3%)\n",
            "  adding: content/yolov5/runs/train/exp2/R_curve.png (deflated 4%)\n",
            "  adding: content/yolov5/runs/train/exp2/P_curve.png (deflated 4%)\n",
            "  adding: content/yolov5/runs/train/exp2/labels.jpg (deflated 21%)\n",
            "  adding: content/yolov5/runs/train/exp2/test_batch0_labels.jpg (deflated 8%)\n",
            "  adding: content/yolov5/runs/train/exp2/test_batch2_labels.jpg (deflated 9%)\n",
            "  adding: content/yolov5/runs/train/exp2/test_batch1_pred.jpg (deflated 6%)\n",
            "  adding: content/yolov5/runs/train/exp2/train_batch2.jpg (deflated 3%)\n",
            "  adding: content/yolov5/runs/train/exp2/test_batch1_labels.jpg (deflated 11%)\n"
          ],
          "name": "stdout"
        }
      ]
    },
    {
      "cell_type": "code",
      "metadata": {
        "id": "I7YV5xNUWcP-",
        "colab": {
          "base_uri": "https://localhost:8080/",
          "height": 35
        },
        "outputId": "0b29300a-c066-45ca-a165-98f439f22d5d"
      },
      "source": [
        "from shutil import copyfile\n",
        "# copyfile('/content/file1.zip', '/content/drive/MyDrive/new/file1.zip')\n",
        "copyfile('/content/drive/MyDrive/new/file1.zip','/content/file1.zip')"
      ],
      "execution_count": 16,
      "outputs": [
        {
          "output_type": "execute_result",
          "data": {
            "application/vnd.google.colaboratory.intrinsic+json": {
              "type": "string"
            },
            "text/plain": [
              "'/content/file1.zip'"
            ]
          },
          "metadata": {
            "tags": []
          },
          "execution_count": 16
        }
      ]
    },
    {
      "cell_type": "code",
      "metadata": {
        "id": "nSIudlpKbEy2"
      },
      "source": [
        "!unzip -q file1.zip"
      ],
      "execution_count": 18,
      "outputs": []
    }
  ]
}